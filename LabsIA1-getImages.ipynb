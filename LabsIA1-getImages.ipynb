{
 "cells": [
  {
   "cell_type": "code",
   "execution_count": 1,
   "id": "48000406",
   "metadata": {},
   "outputs": [],
   "source": [
    "from radiomics import featureextractor\n",
    "import pydicom\n",
    "from pydicom.filereader import read_dicomdir\n",
    "from pydicom.data import get_testdata_files\n",
    "import pylidc as pl\n",
    "import numpy as np\n",
    "import matplotlib.pyplot as plt\n",
    "import matplotlib.animation as manim\n",
    "from skimage.measure import find_contours\n",
    "from pylidc.utils import consensus\n",
    "import math\n",
    "from PIL import Image\n",
    "import os"
   ]
  },
  {
   "cell_type": "code",
   "execution_count": 2,
   "id": "618d8e13",
   "metadata": {},
   "outputs": [],
   "source": [
    "path = \"C:/Users/35192/Desktop/LIDC-IDRI\"\n",
    "f = open('C:/Users/35192/pylidc.conf', 'w')\n",
    "f.write(f'[dicom]\\npath = {path}\\n\\n')\n",
    "f.close()\n"
   ]
  },
  {
   "cell_type": "code",
   "execution_count": null,
   "id": "b9e6dd13",
   "metadata": {},
   "outputs": [
    {
     "name": "stdout",
     "output_type": "stream",
     "text": [
      "Loading dicom files ... This may take a moment.\n",
      "Loading dicom files ... This may take a moment.\n",
      "Loading dicom files ... This may take a moment.\n",
      "Loading dicom files ... This may take a moment.\n",
      "Loading dicom files ... This may take a moment.\n",
      "Loading dicom files ... This may take a moment.\n",
      "Loading dicom files ... This may take a moment.\n"
     ]
    }
   ],
   "source": [
    "# Query for a scan, and convert it to an array volume.\n",
    "import os\n",
    "root=\"C:/Users/35192/Desktop/LIDC-IDRI\"\n",
    "dirlist = [ item for item in os.listdir(root) if os.path.isdir(os.path.join(root, item)) ]\n",
    "for di in dirlist:\n",
    "    sca = pl.query(pl.Scan).filter(pl.Scan.patient_id == di).all()\n",
    "    count=0\n",
    "    for scan in sca:\n",
    "        vol = scan.to_volume()\n",
    "        nods = scan.cluster_annotations()\n",
    "        for n in range(len(nods)):\n",
    "            # Cluster the annotations for the scan, and grab one.\n",
    "            anns = nods[n]\n",
    "            # Perform a consensus consolidation and 50% agreement level.\n",
    "            # We pad the slices to add context for viewing.\n",
    "            cmask,cbbox,masks = consensus(anns, clevel=0.5,pad=[(512,512), (512,512), (0,0)])\n",
    "            k = int(0.5*(cbbox[2].stop - cbbox[2].start))\n",
    "            boolean_map = np.array(cmask[:,:,k])\n",
    "            number_image = np.array(vol[cbbox][:,:,k])\n",
    "            fig=plt.imshow(number_image,cmap=plt.cm.gray)\n",
    "            fig.axes.get_xaxis().set_visible(False)\n",
    "            fig.axes.get_yaxis().set_visible(False)\n",
    "            plt.savefig(f'C:/Users/35192/Desktop/dicom-png/{di}-{count}.png',bbox_inches=\"tight\",pad_inches=0.0)\n",
    "            \n",
    "            \n",
    "            for i in range(len(boolean_map)):\n",
    "                for d in range(len(boolean_map[0])):\n",
    "                    if(boolean_map[i][d]==False):\n",
    "                        number_image[i][d]=-1000\n",
    "            fig=plt.imshow(number_image,cmap=plt.cm.gray)\n",
    "            plt.savefig(f'C:/Users/35192/Desktop/imagens/{di}-{count}.png',bbox_inches=\"tight\",pad_inches=0.0)\n",
    "            count+=1\n",
    "    \n"
   ]
  },
  {
   "cell_type": "code",
   "execution_count": null,
   "id": "00596443",
   "metadata": {},
   "outputs": [],
   "source": []
  }
 ],
 "metadata": {
  "kernelspec": {
   "display_name": "Python 3 (ipykernel)",
   "language": "python",
   "name": "python3"
  },
  "language_info": {
   "codemirror_mode": {
    "name": "ipython",
    "version": 3
   },
   "file_extension": ".py",
   "mimetype": "text/x-python",
   "name": "python",
   "nbconvert_exporter": "python",
   "pygments_lexer": "ipython3",
   "version": "3.9.16"
  }
 },
 "nbformat": 4,
 "nbformat_minor": 5
}
