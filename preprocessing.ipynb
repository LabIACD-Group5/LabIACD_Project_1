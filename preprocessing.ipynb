{
 "cells": [
  {
   "cell_type": "markdown",
   "id": "e1b85a71",
   "metadata": {},
   "source": [
    "# Tudo relativo a pré-visualização e análise de dados"
   ]
  },
  {
   "cell_type": "code",
   "execution_count": 13,
   "id": "0e1eeb42",
   "metadata": {},
   "outputs": [],
   "source": [
    "import openpyxl as xl\n",
    "import os\n",
    "import pandas as pd\n",
    "import numpy as np"
   ]
  },
  {
   "cell_type": "code",
   "execution_count": 14,
   "id": "627ad8d7",
   "metadata": {},
   "outputs": [
    {
     "data": {
      "text/plain": [
       "'c:\\\\Users\\\\anoca\\\\Documents\\\\GitHub\\\\LabIACD_Project_1'"
      ]
     },
     "execution_count": 14,
     "metadata": {},
     "output_type": "execute_result"
    }
   ],
   "source": [
    "os.getcwd()"
   ]
  },
  {
   "cell_type": "code",
   "execution_count": 15,
   "id": "c7ce3f45",
   "metadata": {},
   "outputs": [],
   "source": [
    "#os.chdir(\"dados/tcia-lidc-xml/157\")\n",
    "#os.chdir(\"dados/counts_diagnosis_etc/\")"
   ]
  },
  {
   "cell_type": "code",
   "execution_count": 16,
   "id": "81ecdebf",
   "metadata": {},
   "outputs": [],
   "source": [
    "#notas=pd.read_xml('158.xml')\n",
    "metadata=pd.read_csv('LIDC-IDRI_MetaData.csv')\n",
    "nod_count=pd.read_excel('lidc-idri nodule counts (6-23-2015).xlsx')\n",
    "\n",
    "# é preciso ter instalado o package 'xlrd'\n",
    "diagnosis = pd.read_excel('tcia-diagnosis-data-2012-04-20.xls')"
   ]
  },
  {
   "cell_type": "markdown",
   "id": "08a97609",
   "metadata": {},
   "source": [
    "### Nodule counts"
   ]
  },
  {
   "cell_type": "code",
   "execution_count": 17,
   "id": "5ed5b596",
   "metadata": {},
   "outputs": [
    {
     "name": "stdout",
     "output_type": "stream",
     "text": [
      "<class 'pandas.core.frame.DataFrame'>\n",
      "Index: 1018 entries, 0 to 1017\n",
      "Data columns (total 4 columns):\n",
      " #   Column                     Non-Null Count  Dtype \n",
      "---  ------                     --------------  ----- \n",
      " 0   TCIA Patent ID             1018 non-null   object\n",
      " 1   Total Number of Nodules*   1018 non-null   int64 \n",
      " 2   Number of Nodules >=3mm**  1018 non-null   int64 \n",
      " 3   Number of Nodules <3mm***  1018 non-null   int64 \n",
      "dtypes: int64(3), object(1)\n",
      "memory usage: 39.8+ KB\n"
     ]
    }
   ],
   "source": [
    "# Drop columns 4 and 5 (0 and 3 non-null objects, seems irrelevant)\n",
    "nod_count=nod_count.drop(['Unnamed: 4','Unnamed: 5'],axis=1)\n",
    "nod_count=nod_count[~nod_count['TCIA Patent ID'].isnull()]    # remove a linha com os totais\n",
    "nod_count.info()"
   ]
  },
  {
   "cell_type": "code",
   "execution_count": 18,
   "id": "0ebebaa6",
   "metadata": {},
   "outputs": [
    {
     "name": "stdout",
     "output_type": "stream",
     "text": [
      "<class 'pandas.core.frame.DataFrame'>\n",
      "Index: 883 entries, 0 to 1017\n",
      "Data columns (total 4 columns):\n",
      " #   Column                     Non-Null Count  Dtype \n",
      "---  ------                     --------------  ----- \n",
      " 0   TCIA Patent ID             883 non-null    object\n",
      " 1   Total Number of Nodules*   883 non-null    int64 \n",
      " 2   Number of Nodules >=3mm**  883 non-null    int64 \n",
      " 3   Number of Nodules <3mm***  883 non-null    int64 \n",
      "dtypes: int64(3), object(1)\n",
      "memory usage: 34.5+ KB\n"
     ]
    }
   ],
   "source": [
    "# dropping rows where number of nodules >= 3mm is 0\n",
    "\n",
    "nod_count = nod_count[nod_count['Number of Nodules >=3mm**'] != 0]\n",
    "nod_count.info()"
   ]
  },
  {
   "cell_type": "code",
   "execution_count": 19,
   "id": "f0be95f3",
   "metadata": {},
   "outputs": [
    {
     "name": "stdout",
     "output_type": "stream",
     "text": [
      "[['LIDC-IDRI-0026']\n",
      " ['LIDC-IDRI-0027']\n",
      " ['LIDC-IDRI-0029']\n",
      " ['LIDC-IDRI-0030']\n",
      " ['LIDC-IDRI-0031']\n",
      " ['LIDC-IDRI-0033']\n",
      " ['LIDC-IDRI-0034']\n",
      " ['LIDC-IDRI-0035']\n",
      " ['LIDC-IDRI-0036']\n",
      " ['LIDC-IDRI-0037']]\n"
     ]
    }
   ],
   "source": [
    "# array com os ids dos pacientes com pelo menos 1 nódulo >= 3 mm\n",
    "\n",
    "ids = nod_count.iloc[:,:1].values\n",
    "print(ids[25:35])"
   ]
  },
  {
   "cell_type": "markdown",
   "id": "de86684e",
   "metadata": {},
   "source": [
    "### Diagnosis"
   ]
  },
  {
   "cell_type": "code",
   "execution_count": 20,
   "id": "cd4b1b3c",
   "metadata": {},
   "outputs": [
    {
     "name": "stdout",
     "output_type": "stream",
     "text": [
      "<class 'pandas.core.frame.DataFrame'>\n",
      "RangeIndex: 157 entries, 0 to 156\n",
      "Data columns (total 8 columns):\n",
      " #   Column                                     Non-Null Count  Dtype  \n",
      "---  ------                                     --------------  -----  \n",
      " 0   TCIA Patient ID                            157 non-null    object \n",
      " 1   patient_diagnosis                          157 non-null    int64  \n",
      " 2   patient_diag_method                        157 non-null    int64  \n",
      " 3   Primary tumor site for metastatic disease  157 non-null    object \n",
      " 4   nodule1_diagnosis                          137 non-null    float64\n",
      " 5   nodule1_method                             137 non-null    float64\n",
      " 6   nodule2_diagnosis                          20 non-null     float64\n",
      " 7   nodule2_method                             20 non-null     float64\n",
      "dtypes: float64(4), int64(2), object(2)\n",
      "memory usage: 9.9+ KB\n"
     ]
    }
   ],
   "source": [
    "# Drop columns 8 to 13 (0 non-null objects)\n",
    "diagnosis.drop(diagnosis.columns[range(8,14)], axis=1, inplace=True)\n",
    "\n",
    "# Renaming columns\n",
    "diagnosis.rename(columns = \n",
    "                 {'Diagnosis at the Patient Level\\n0=Unknown\\n1=benign or non-malignant disease\\n2= malignant, primary lung cancer\\n3 = malignant metastatic\\n':'patient_diagnosis',\n",
    "                  'Diagnosis Method\\n0 = unknown\\n1 = review of radiological images to show 2 years of stable nodule\\n2 = biopsy\\n3 = surgical resection\\n4 = progression or response':'patient_diag_method',\n",
    "                  'Nodule 1\\nDiagnosis at the Nodule Level \\n0=Unknown\\n1=benign or non-malignant disease\\n2= malignant, primary lung cancer\\n3 = malignant metastatic)\\n':'nodule1_diagnosis',\n",
    "                  'Nodule 1\\nDiagnosis Method at the Nodule Level\\n0 = unknown\\n1 = review of radiological images to show 2 years of stable nodule\\n2 = biopsy\\n3 = surgical resection\\n4 = progression or response\\n':'nodule1_method',\n",
    "                  'Nodule 2\\nDiagnosis at the Nodule Level \\n0=Unknown\\n1=benign or non-malignant disease\\n2= malignant, primary lung cancer\\n3 = malignant metastatic)\\n':'nodule2_diagnosis',\n",
    "                  'Nodule 2\\nDiagnosis Method at the Nodule Level\\n0 = unknown\\n1 = review of radiological images to show 2 years of stable nodule\\n2 = biopsy\\n3 = surgical resection\\n4 = progression or response\\n':'nodule2_method'\n",
    "                  }, inplace = True)\n",
    "\n",
    "diagnosis.info()"
   ]
  },
  {
   "cell_type": "code",
   "execution_count": 21,
   "id": "78e57de3",
   "metadata": {},
   "outputs": [
    {
     "data": {
      "text/plain": [
       "0      LIDC-IDRI-0068\n",
       "1      LIDC-IDRI-0071\n",
       "2      LIDC-IDRI-0072\n",
       "3      LIDC-IDRI-0088\n",
       "4      LIDC-IDRI-0090\n",
       "            ...      \n",
       "152    LIDC-IDRI-0994\n",
       "153    LIDC-IDRI-1002\n",
       "154    LIDC-IDRI-1004\n",
       "155    LIDC-IDRI-1010\n",
       "156    LIDC-IDRI-1011\n",
       "Name: TCIA Patient ID, Length: 157, dtype: object"
      ]
     },
     "execution_count": 21,
     "metadata": {},
     "output_type": "execute_result"
    }
   ],
   "source": [
    "diagnosis_ids=diagnosis['TCIA Patient ID']\n",
    "diagnosis_ids"
   ]
  },
  {
   "cell_type": "code",
   "execution_count": null,
   "id": "d0687507",
   "metadata": {},
   "outputs": [],
   "source": []
  },
  {
   "cell_type": "code",
   "execution_count": 22,
   "id": "d55157d5",
   "metadata": {},
   "outputs": [],
   "source": [
    "ids=pd.DataFrame(ids)\n",
    "ids.to_csv('interest_ids.csv')"
   ]
  },
  {
   "cell_type": "code",
   "execution_count": null,
   "id": "be678045",
   "metadata": {},
   "outputs": [],
   "source": []
  }
 ],
 "metadata": {
  "kernelspec": {
   "display_name": "Python 3 (ipykernel)",
   "language": "python",
   "name": "python3"
  },
  "language_info": {
   "codemirror_mode": {
    "name": "ipython",
    "version": 3
   },
   "file_extension": ".py",
   "mimetype": "text/x-python",
   "name": "python",
   "nbconvert_exporter": "python",
   "pygments_lexer": "ipython3",
   "version": "3.10.13"
  }
 },
 "nbformat": 4,
 "nbformat_minor": 5
}
