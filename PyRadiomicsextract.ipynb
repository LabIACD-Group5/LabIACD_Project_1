{
 "cells": [
  {
   "cell_type": "markdown",
   "metadata": {},
   "source": [
    "# Example of using the PyRadiomics toolbox in Python"
   ]
  },
  {
   "cell_type": "markdown",
   "metadata": {},
   "source": [
    "First, import some built-in Python modules needed to get our testing data.\n",
    "Second, import the toolbox, only the `featureextractor` is needed, this module handles the interaction with other parts of the toolbox."
   ]
  },
  {
   "cell_type": "code",
   "execution_count": null,
   "metadata": {
    "collapsed": true
   },
   "outputs": [],
   "source": [
    "from __future__ import print_function\n",
    "import SimpleITK as sitk\n",
    "import six\n",
    "import numpy as np\n",
    "import os  # needed navigate the system to get the input data\n",
    "from PIL import Image\n",
    "import matplotlib.pyplot as plt\n",
    "import pandas as pd\n",
    "import radiomics\n",
    "from radiomics import featureextractor  # This module is used for interaction with pyradiomics"
   ]
  },
  {
   "cell_type": "markdown",
   "metadata": {},
   "source": [
    "##### Extração das features"
   ]
  },
  {
   "cell_type": "code",
   "execution_count": null,
   "metadata": {
    "collapsed": false
   },
   "outputs": [],
   "source": [
    "# Inicialização do extractor\n",
    "extractor = featureextractor.RadiomicsFeatureExtractor()\n",
    "\n",
    "# Inicialização da builder dataframe\n",
    "df_builder = pd.DataFrame()\n",
    "\n",
    "# Numero de imagens que não foram usadas\n",
    "not_used = 0\n",
    "\n",
    "# Iterar sobre as imagens\n",
    "for imagem in os.listdir('C:/Users/Guilherme/Desktop/Faculdade/Terceiroano/LabIACD/originalimages'):\n",
    "    for mascara in os.listdir('C:/Users/Guilherme/Desktop/Faculdade/Terceiroano/LabIACD/maskimages'):\n",
    "        if imagem == mascara:\n",
    "            image_1 = Image.open('C:/Users/Guilherme/Desktop/Faculdade/Terceiroano/LabIACD/originalimages/' + imagem)\n",
    "            label_1 = Image.open('C:/Users/Guilherme/Desktop/Faculdade/Terceiroano/LabIACD/maskimages/' + mascara)\n",
    "\n",
    "            image_1 = np.asarray(image_1)\n",
    "            image_1 = sitk.GetImageFromArray(image_1)\n",
    "\n",
    "            pixels = label_1.load() # create the pixel map\n",
    "\n",
    "            for i in range(label_1.size[0]): # for every pixel:\n",
    "                for j in range(label_1.size[1]):\n",
    "                    if pixels[i,j] != (0, 0, 0, 255):\n",
    "                        #mudar para branco se mao for preto\n",
    "                        #temos que fazer isto para ter apenas uma label\n",
    "                        pixels[i,j] = (255, 255 ,255, 255)\n",
    "\n",
    "            label_1.save('C:/Users/Guilherme/Desktop/Faculdade/Terceiroano/LabIACD/LIDC-IDRI-alterado.png')\n",
    "\n",
    "            # Extração das features ---------------------------------------------\n",
    "            image_1 = sitk.ReadImage('C:/Users/Guilherme/Desktop/Faculdade/Terceiroano/LabIACD/originalimages/' + imagem)\n",
    "            label_1 = sitk.ReadImage('C:/Users/Guilherme/Desktop/Faculdade/Terceiroano/LabIACD/LIDC-IDRI-alterado.png')\n",
    "\n",
    "            image_1 = np.asarray(image_1)\n",
    "            image_1 = sitk.GetImageFromArray(image_1)\n",
    "\n",
    "            label_1 = np.asarray(label_1)\n",
    "            label_1 = sitk.GetImageFromArray(label_1)\n",
    "\n",
    "            # Existem imagens que não podem ser usadas\n",
    "            try:\n",
    "                result = extractor.execute(image_1, label_1, label=255)\n",
    "            except:\n",
    "                print(\"Mask has to few dimensions, skipping\")\n",
    "                continue\n",
    "\n",
    "            # Colocar na dataframe\n",
    "            if df_builder.empty:\n",
    "                id_list = ['id']\n",
    "                df_builder = pd.concat([df_builder, pd.DataFrame(id_list + list(result.keys()))], axis=1)\n",
    "            \n",
    "            #tirar o png do nome da imagem\n",
    "            imagem = imagem.split('.')[0]\n",
    "            img_list=[imagem]\n",
    "            df_builder = pd.concat([df_builder, pd.DataFrame(img_list + list(result.values()))], axis=1)\n"
   ]
  },
  {
   "cell_type": "code",
   "execution_count": null,
   "metadata": {},
   "outputs": [],
   "source": [
    "df_builder.head(20)"
   ]
  },
  {
   "cell_type": "markdown",
   "metadata": {},
   "source": [
    "##### Guardar os resultados num ficheiro excell"
   ]
  },
  {
   "cell_type": "code",
   "execution_count": null,
   "metadata": {},
   "outputs": [],
   "source": [
    "#Transpor a informação da dataframe\n",
    "df_builder.T.reset_index()\n",
    "\n",
    "df_final = df_builder.transpose()\n",
    "\n",
    "# Exportar a dataframe para excel\n",
    "df_final.to_excel('pyradiomics.xlsx', header=False)"
   ]
  },
  {
   "cell_type": "code",
   "execution_count": null,
   "metadata": {},
   "outputs": [],
   "source": []
  }
 ],
 "metadata": {
  "kernelspec": {
   "display_name": "labIACD",
   "language": "python",
   "name": "python3"
  },
  "language_info": {
   "codemirror_mode": {
    "name": "ipython",
    "version": 3
   },
   "file_extension": ".py",
   "mimetype": "text/x-python",
   "name": "python",
   "nbconvert_exporter": "python",
   "pygments_lexer": "ipython3",
   "version": "3.7.16"
  }
 },
 "nbformat": 4,
 "nbformat_minor": 0
}
